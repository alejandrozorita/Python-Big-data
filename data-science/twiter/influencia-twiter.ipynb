{
 "cells": [
  {
   "cell_type": "markdown",
   "metadata": {},
   "source": [
    "# Influencia Twitter. Cuanto se usa la palara YO"
   ]
  },
  {
   "cell_type": "markdown",
   "metadata": {},
   "source": [
    "¿Cual es la probabilidad de que un tweet de las siguientes coordenadas geográficas (43.629334,-9.977653, 36.881455, 3.919982)  contiene al menos una composición de la palabra \"yo\" con combinación de mayúsculas, minúsculas y acentos?"
   ]
  },
  {
   "cell_type": "markdown",
   "metadata": {},
   "source": [
    "\n",
    "Recopilación de datos"
   ]
  },
  {
   "cell_type": "code",
   "execution_count": 55,
   "metadata": {},
   "outputs": [
    {
     "name": "stdout",
     "output_type": "stream",
     "text": [
      "Requirement already satisfied: tweepy in /Applications/MAMP/htdocs/Python/Python-Big-data/data-science/lib/python3.6/site-packages\n",
      "Requirement already satisfied: requests-oauthlib>=0.7.0 in /Applications/MAMP/htdocs/Python/Python-Big-data/data-science/lib/python3.6/site-packages (from tweepy)\n",
      "Requirement already satisfied: six>=1.10.0 in /Applications/MAMP/htdocs/Python/Python-Big-data/data-science/lib/python3.6/site-packages (from tweepy)\n",
      "Requirement already satisfied: PySocks>=1.5.7 in /Applications/MAMP/htdocs/Python/Python-Big-data/data-science/lib/python3.6/site-packages (from tweepy)\n",
      "Requirement already satisfied: requests>=2.11.1 in /Applications/MAMP/htdocs/Python/Python-Big-data/data-science/lib/python3.6/site-packages (from tweepy)\n",
      "Requirement already satisfied: oauthlib>=0.6.2 in /Applications/MAMP/htdocs/Python/Python-Big-data/data-science/lib/python3.6/site-packages (from requests-oauthlib>=0.7.0->tweepy)\n",
      "Requirement already satisfied: certifi>=2017.4.17 in /Applications/MAMP/htdocs/Python/Python-Big-data/data-science/lib/python3.6/site-packages (from requests>=2.11.1->tweepy)\n",
      "Requirement already satisfied: idna<2.7,>=2.5 in /Applications/MAMP/htdocs/Python/Python-Big-data/data-science/lib/python3.6/site-packages (from requests>=2.11.1->tweepy)\n",
      "Requirement already satisfied: urllib3<1.23,>=1.21.1 in /Applications/MAMP/htdocs/Python/Python-Big-data/data-science/lib/python3.6/site-packages (from requests>=2.11.1->tweepy)\n",
      "Requirement already satisfied: chardet<3.1.0,>=3.0.2 in /Applications/MAMP/htdocs/Python/Python-Big-data/data-science/lib/python3.6/site-packages (from requests>=2.11.1->tweepy)\n"
     ]
    }
   ],
   "source": [
    "import os\n",
    "\n",
    "!pip3 install tweepy\n",
    "\n",
    "import tweepy\n",
    "\n",
    "from tweepy import Stream\n",
    "\n",
    "from stream_listener import FiniteStreamListener"
   ]
  },
  {
   "cell_type": "markdown",
   "metadata": {},
   "source": [
    "\n",
    "Cargamos las credenciales"
   ]
  },
  {
   "cell_type": "code",
   "execution_count": 65,
   "metadata": {},
   "outputs": [],
   "source": [
    "CONSUMER_KEY = '8wLdZB9ssUQjih93ogJyz9zhW'\n",
    "CONSUMER_SECRET = 'bPOMxTfx9VZsIFLKBwZUlPM8eVDYlC2xRt1UCnof6EIjH8zAVB'\n",
    "ACCESS_TOKEN = '165969752-9LXeDAV0bPau6HNKBoidKbmaRAxXINNuDIQqIhh6'\n",
    "ACCESS_TOKEN_SECRET = 'MPbT9f7fkluD6oRPHh5fvorMPJiUQCSLe0mN3VKRnXjt3'"
   ]
  },
  {
   "cell_type": "code",
   "execution_count": 66,
   "metadata": {},
   "outputs": [],
   "source": [
    "#SPAIN_GEO_LOCATION_BOUNDING_BOX = [43.629334,-9.977653, 36.881455, 3.919982]\n",
    "NUMBER_OF_TWEETS = 100"
   ]
  },
  {
   "cell_type": "code",
   "execution_count": 72,
   "metadata": {},
   "outputs": [],
   "source": [
    "auth = tweepy.OAuthHandler(CONSUMER_KEY, CONSUMER_SECRET)\n",
    "auth.set_access_token(ACCESS_TOKEN, ACCESS_TOKEN_SECRET)\n",
    "api = tweepy.API(auth)\n",
    "\n"
   ]
  },
  {
   "cell_type": "markdown",
   "metadata": {},
   "source": [
    "Establecemos conexión con la API de Twitter"
   ]
  },
  {
   "cell_type": "code",
   "execution_count": 73,
   "metadata": {},
   "outputs": [],
   "source": [
    "finite_stream_listener = FiniteStreamListener(number_of_tweets=NUMBER_OF_TWEETS)\n",
    "streaming_api = Stream(auth=auth, listener=finite_stream_listener)"
   ]
  },
  {
   "cell_type": "markdown",
   "metadata": {},
   "source": [
    "    Sorber del firehouse"
   ]
  },
  {
   "cell_type": "code",
   "execution_count": 74,
   "metadata": {},
   "outputs": [],
   "source": [
    "#streaming_api.filter(locations=SPAIN_GEO_LOCATION_BOUNDING_BOX)"
   ]
  },
  {
   "cell_type": "markdown",
   "metadata": {},
   "source": [
    "Limpiar Datos"
   ]
  },
  {
   "cell_type": "code",
   "execution_count": 75,
   "metadata": {},
   "outputs": [
    {
     "name": "stdout",
     "output_type": "stream",
     "text": [
      "Requirement already satisfied: unidecode in /Applications/MAMP/htdocs/Python/Python-Big-data/data-science/lib/python3.6/site-packages\r\n"
     ]
    }
   ],
   "source": [
    "!pip3 install unidecode\n",
    "from unidecode import unidecode"
   ]
  },
  {
   "cell_type": "markdown",
   "metadata": {},
   "source": [
    "     Definir funciones de limpieza"
   ]
  },
  {
   "cell_type": "code",
   "execution_count": 76,
   "metadata": {},
   "outputs": [],
   "source": [
    "def make_lowercase(tweet):\n",
    "    return tweet.lower()\n",
    "\n",
    "def remove_diacritics(tweet):\n",
    "    return unidecode(tweet)\n",
    "\n",
    "def remove_non_alpha_characters(tweet):\n",
    "    return ''.join(character for caracter in tweet if character.isalpha() or character == ' ')"
   ]
  },
  {
   "cell_type": "markdown",
   "metadata": {},
   "source": [
    "Aplicar las funciones"
   ]
  },
  {
   "cell_type": "code",
   "execution_count": 86,
   "metadata": {},
   "outputs": [
    {
     "name": "stdout",
     "output_type": "stream",
     "text": [
      "Pretty printing has been turned ON\n"
     ]
    }
   ],
   "source": [
    "len(finite_stream_listener.tweets)"
   ]
  },
  {
   "cell_type": "code",
   "execution_count": 80,
   "metadata": {},
   "outputs": [],
   "source": [
    "cleaned_tweets = list(finite_stream_listener.tweets)\n",
    "\n",
    "for cleaning_function in [make_lowercase, remove_diacritics, remove_non_alpha_characters]:\n",
    "    cleaned_tweets = [cleaning_function(tweet) for tweet in cleaned_tweets]"
   ]
  },
  {
   "cell_type": "markdown",
   "metadata": {},
   "source": [
    "Dormir datos"
   ]
  },
  {
   "cell_type": "code",
   "execution_count": 82,
   "metadata": {},
   "outputs": [],
   "source": [
    "%matplotlib inline\n",
    "\n",
    "from pprint import pprint\n",
    "import pandas as pd"
   ]
  },
  {
   "cell_type": "code",
   "execution_count": null,
   "metadata": {},
   "outputs": [],
   "source": [
    "KEYWORD"
   ]
  }
 ],
 "metadata": {
  "kernelspec": {
   "display_name": "Python 3",
   "language": "python",
   "name": "python3"
  },
  "language_info": {
   "codemirror_mode": {
    "name": "ipython",
    "version": 3
   },
   "file_extension": ".py",
   "mimetype": "text/x-python",
   "name": "python",
   "nbconvert_exporter": "python",
   "pygments_lexer": "ipython3",
   "version": "3.6.5"
  }
 },
 "nbformat": 4,
 "nbformat_minor": 1
}
